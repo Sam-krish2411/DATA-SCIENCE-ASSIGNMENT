{
  "nbformat": 4,
  "nbformat_minor": 0,
  "metadata": {
    "colab": {
      "provenance": [],
      "authorship_tag": "ABX9TyNfdf6HLD1B2bYPjnHhrGiR",
      "include_colab_link": true
    },
    "kernelspec": {
      "name": "python3",
      "display_name": "Python 3"
    },
    "language_info": {
      "name": "python"
    }
  },
  "cells": [
    {
      "cell_type": "markdown",
      "metadata": {
        "id": "view-in-github",
        "colab_type": "text"
      },
      "source": [
        "<a href=\"https://colab.research.google.com/github/Sam-krish2411/DATA-SCIENCE-ASSIGNMENT/blob/main/ASSOCIATION_RULES.ipynb\" target=\"_parent\"><img src=\"https://colab.research.google.com/assets/colab-badge.svg\" alt=\"Open In Colab\"/></a>"
      ]
    },
    {
      "cell_type": "code",
      "source": [
        "import warnings\n",
        "warnings.filterwarnings(\"ignore\")"
      ],
      "metadata": {
        "colab": {
          "base_uri": "https://localhost:8080/"
        },
        "id": "NjRuPqe_8E_s",
        "outputId": "6df1d1a5-611c-45e9-ad97-2df1b3360ab5"
      },
      "execution_count": 6,
      "outputs": [
        {
          "output_type": "stream",
          "name": "stderr",
          "text": [
            "/usr/local/lib/python3.12/dist-packages/jupyter_client/session.py:203: DeprecationWarning: datetime.datetime.utcnow() is deprecated and scheduled for removal in a future version. Use timezone-aware objects to represent datetimes in UTC: datetime.datetime.now(datetime.UTC).\n",
            "  return datetime.utcnow().replace(tzinfo=utc)\n",
            "/usr/local/lib/python3.12/dist-packages/jupyter_client/session.py:203: DeprecationWarning: datetime.datetime.utcnow() is deprecated and scheduled for removal in a future version. Use timezone-aware objects to represent datetimes in UTC: datetime.datetime.now(datetime.UTC).\n",
            "  return datetime.utcnow().replace(tzinfo=utc)\n",
            "/usr/local/lib/python3.12/dist-packages/jupyter_client/session.py:203: DeprecationWarning: datetime.datetime.utcnow() is deprecated and scheduled for removal in a future version. Use timezone-aware objects to represent datetimes in UTC: datetime.datetime.now(datetime.UTC).\n",
            "  return datetime.utcnow().replace(tzinfo=utc)\n",
            "/usr/local/lib/python3.12/dist-packages/jupyter_client/session.py:203: DeprecationWarning: datetime.datetime.utcnow() is deprecated and scheduled for removal in a future version. Use timezone-aware objects to represent datetimes in UTC: datetime.datetime.now(datetime.UTC).\n",
            "  return datetime.utcnow().replace(tzinfo=utc)\n",
            "/usr/local/lib/python3.12/dist-packages/jupyter_client/session.py:203: DeprecationWarning: datetime.datetime.utcnow() is deprecated and scheduled for removal in a future version. Use timezone-aware objects to represent datetimes in UTC: datetime.datetime.now(datetime.UTC).\n",
            "  return datetime.utcnow().replace(tzinfo=utc)\n"
          ]
        }
      ]
    },
    {
      "cell_type": "code",
      "execution_count": 7,
      "metadata": {
        "colab": {
          "base_uri": "https://localhost:8080/"
        },
        "id": "IHdWRogE7Lgn",
        "outputId": "8fa83587-02dc-4737-de68-b0126ea80698"
      },
      "outputs": [
        {
          "output_type": "stream",
          "name": "stdout",
          "text": [
            "Requirement already satisfied: mlxtend in /usr/local/lib/python3.12/dist-packages (0.23.4)\n",
            "Requirement already satisfied: scipy>=1.2.1 in /usr/local/lib/python3.12/dist-packages (from mlxtend) (1.16.1)\n",
            "Requirement already satisfied: numpy>=1.16.2 in /usr/local/lib/python3.12/dist-packages (from mlxtend) (2.0.2)\n",
            "Requirement already satisfied: pandas>=0.24.2 in /usr/local/lib/python3.12/dist-packages (from mlxtend) (2.2.2)\n",
            "Requirement already satisfied: scikit-learn>=1.3.1 in /usr/local/lib/python3.12/dist-packages (from mlxtend) (1.6.1)\n",
            "Requirement already satisfied: matplotlib>=3.0.0 in /usr/local/lib/python3.12/dist-packages (from mlxtend) (3.10.0)\n",
            "Requirement already satisfied: joblib>=0.13.2 in /usr/local/lib/python3.12/dist-packages (from mlxtend) (1.5.2)\n",
            "Requirement already satisfied: contourpy>=1.0.1 in /usr/local/lib/python3.12/dist-packages (from matplotlib>=3.0.0->mlxtend) (1.3.3)\n",
            "Requirement already satisfied: cycler>=0.10 in /usr/local/lib/python3.12/dist-packages (from matplotlib>=3.0.0->mlxtend) (0.12.1)\n",
            "Requirement already satisfied: fonttools>=4.22.0 in /usr/local/lib/python3.12/dist-packages (from matplotlib>=3.0.0->mlxtend) (4.59.2)\n",
            "Requirement already satisfied: kiwisolver>=1.3.1 in /usr/local/lib/python3.12/dist-packages (from matplotlib>=3.0.0->mlxtend) (1.4.9)\n",
            "Requirement already satisfied: packaging>=20.0 in /usr/local/lib/python3.12/dist-packages (from matplotlib>=3.0.0->mlxtend) (25.0)\n",
            "Requirement already satisfied: pillow>=8 in /usr/local/lib/python3.12/dist-packages (from matplotlib>=3.0.0->mlxtend) (11.3.0)\n",
            "Requirement already satisfied: pyparsing>=2.3.1 in /usr/local/lib/python3.12/dist-packages (from matplotlib>=3.0.0->mlxtend) (3.2.3)\n",
            "Requirement already satisfied: python-dateutil>=2.7 in /usr/local/lib/python3.12/dist-packages (from matplotlib>=3.0.0->mlxtend) (2.9.0.post0)\n",
            "Requirement already satisfied: pytz>=2020.1 in /usr/local/lib/python3.12/dist-packages (from pandas>=0.24.2->mlxtend) (2025.2)\n",
            "Requirement already satisfied: tzdata>=2022.7 in /usr/local/lib/python3.12/dist-packages (from pandas>=0.24.2->mlxtend) (2025.2)\n",
            "Requirement already satisfied: threadpoolctl>=3.1.0 in /usr/local/lib/python3.12/dist-packages (from scikit-learn>=1.3.1->mlxtend) (3.6.0)\n",
            "Requirement already satisfied: six>=1.5 in /usr/local/lib/python3.12/dist-packages (from python-dateutil>=2.7->matplotlib>=3.0.0->mlxtend) (1.17.0)\n"
          ]
        }
      ],
      "source": [
        "!pip install mlxtend\n",
        "\n",
        "# Import libraries\n",
        "import pandas as pd\n",
        "from mlxtend.preprocessing import TransactionEncoder\n",
        "from mlxtend.frequent_patterns import apriori, association_rules\n"
      ]
    },
    {
      "cell_type": "code",
      "source": [
        "#Load Dataset\n",
        "\n",
        "df = pd.read_excel(\"Online retail.xlsx\", header=None)\n",
        "\n",
        "# Convert the column into a list of transactions\n",
        "transactions = df.iloc[:, 0].dropna().tolist()\n",
        "transactions = [t.split(\",\") for t in transactions]"
      ],
      "metadata": {
        "id": "5YHcrUaX7VI-"
      },
      "execution_count": 8,
      "outputs": []
    },
    {
      "cell_type": "code",
      "source": [
        "# 2. One-Hot Encode\n",
        "# -------------------------\n",
        "te = TransactionEncoder()\n",
        "te_ary = te.fit(transactions).transform(transactions)\n",
        "df_encoded = pd.DataFrame(te_ary, columns=te.columns_)\n",
        "\n",
        "print(\"One-hot encoded dataset:\")\n",
        "print(df_encoded.head())"
      ],
      "metadata": {
        "colab": {
          "base_uri": "https://localhost:8080/"
        },
        "id": "4Npo4Piu7VGN",
        "outputId": "60b6ee4d-3504-47dd-c9fd-7d278bab6015"
      },
      "execution_count": 9,
      "outputs": [
        {
          "output_type": "stream",
          "name": "stdout",
          "text": [
            "One-hot encoded dataset:\n",
            "    asparagus  almonds  antioxydant juice  asparagus  avocado  babies food  \\\n",
            "0       False     True               True      False     True        False   \n",
            "1       False    False              False      False    False        False   \n",
            "2       False    False              False      False    False        False   \n",
            "3       False    False              False      False     True        False   \n",
            "4       False    False              False      False    False        False   \n",
            "\n",
            "   bacon  barbecue sauce  black tea  blueberries  ...  turkey  vegetables mix  \\\n",
            "0  False           False      False        False  ...   False            True   \n",
            "1  False           False      False        False  ...   False           False   \n",
            "2  False           False      False        False  ...   False           False   \n",
            "3  False           False      False        False  ...    True           False   \n",
            "4  False           False      False        False  ...   False           False   \n",
            "\n",
            "   water spray  white wine  whole weat flour  whole wheat pasta  \\\n",
            "0        False       False              True              False   \n",
            "1        False       False             False              False   \n",
            "2        False       False             False              False   \n",
            "3        False       False             False              False   \n",
            "4        False       False             False              False   \n",
            "\n",
            "   whole wheat rice   yams  yogurt cake  zucchini  \n",
            "0             False   True        False     False  \n",
            "1             False  False        False     False  \n",
            "2             False  False        False     False  \n",
            "3             False  False        False     False  \n",
            "4              True  False        False     False  \n",
            "\n",
            "[5 rows x 120 columns]\n"
          ]
        }
      ]
    },
    {
      "cell_type": "code",
      "source": [
        "# Apply Apriori\n",
        "\n",
        "frequent_itemsets = apriori(df_encoded, min_support=0.05, use_colnames=True)\n",
        "frequent_itemsets = frequent_itemsets.sort_values(by=\"support\", ascending=False)\n",
        "\n",
        "print(\"\\nFrequent Itemsets:\")\n",
        "print(frequent_itemsets.head(10))"
      ],
      "metadata": {
        "colab": {
          "base_uri": "https://localhost:8080/"
        },
        "id": "lI2h-kkT7VDY",
        "outputId": "0bd5d4e5-a5d6-43ef-96a9-c60188ea847a"
      },
      "execution_count": 11,
      "outputs": [
        {
          "output_type": "stream",
          "name": "stdout",
          "text": [
            "\n",
            "Frequent Itemsets:\n",
            "     support             itemsets\n",
            "16  0.238368      (mineral water)\n",
            "6   0.179709               (eggs)\n",
            "21  0.174110          (spaghetti)\n",
            "8   0.170911       (french fries)\n",
            "3   0.163845          (chocolate)\n",
            "12  0.132116          (green tea)\n",
            "15  0.129583               (milk)\n",
            "13  0.098254        (ground beef)\n",
            "10  0.095321  (frozen vegetables)\n",
            "18  0.095054           (pancakes)\n"
          ]
        }
      ]
    },
    {
      "cell_type": "code",
      "source": [
        "# Generate Association Rules\n",
        "\n",
        "rules = association_rules(frequent_itemsets, metric=\"lift\", min_threshold=1.0)\n",
        "rules = rules.sort_values(by=\"lift\", ascending=False)\n",
        "\n",
        "print(\"\\nTop Association Rules:\")\n",
        "print(rules[['antecedents', 'consequents', 'support', 'confidence', 'lift']].head(10))"
      ],
      "metadata": {
        "colab": {
          "base_uri": "https://localhost:8080/"
        },
        "id": "Bdzplol77VAd",
        "outputId": "91c3767e-0d54-4699-d9fc-0494860dedaa"
      },
      "execution_count": 12,
      "outputs": [
        {
          "output_type": "stream",
          "name": "stdout",
          "text": [
            "\n",
            "Top Association Rules:\n",
            "       antecedents      consequents   support  confidence      lift\n",
            "0  (mineral water)      (spaghetti)  0.059725    0.250559  1.439085\n",
            "1      (spaghetti)  (mineral water)  0.059725    0.343032  1.439085\n",
            "3      (chocolate)  (mineral water)  0.052660    0.321400  1.348332\n",
            "2  (mineral water)      (chocolate)  0.052660    0.220917  1.348332\n",
            "4  (mineral water)           (eggs)  0.050927    0.213647  1.188845\n",
            "5           (eggs)  (mineral water)  0.050927    0.283383  1.188845\n"
          ]
        }
      ]
    },
    {
      "cell_type": "markdown",
      "source": [
        "### Interpretation of Top Association Rules\n",
        "\n",
        "The following rules reveal interesting co-purchase patterns in the retail dataset:\n",
        "\n",
        "1. **Mineral Water → Spaghetti**\n",
        "   - **Support**: 5.97% of transactions contain both items.\n",
        "   - **Confidence**: 25.05% of transactions with mineral water also include spaghetti.\n",
        "   - **Lift**: 1.44 — customers who buy mineral water are **44% more likely** to buy spaghetti compared to random chance.\n",
        "\n",
        "2. **Spaghetti → Mineral Water**\n",
        "   - **Confidence**: 34.30% — stronger than the reverse rule, indicating spaghetti buyers are more likely to also buy mineral water.\n",
        "   - **Lift**: 1.44 — confirms a strong positive association.\n",
        "\n",
        "3. **Chocolate → Mineral Water**\n",
        "   - **Confidence**: 32.14% — nearly one-third of chocolate buyers also purchase mineral water.\n",
        "   - **Lift**: 1.35 — suggests a moderate association.\n",
        "\n",
        "4. **Mineral Water → Chocolate**\n",
        "   - **Confidence**: 22.09% — weaker than the reverse rule, but still notable.\n",
        "   - **Lift**: 1.35 — consistent with the chocolate-mineral water pairing.\n",
        "\n",
        "5. **Mineral Water → Eggs**\n",
        "   - **Confidence**: 21.36% — about one-fifth of mineral water buyers also buy eggs.\n",
        "   - **Lift**: 1.19 — mild association.\n",
        "\n",
        "6. **Eggs → Mineral Water**\n",
        "   - **Confidence**: 28.34% — stronger than the reverse, indicating eggs buyers often include mineral water.\n",
        "   - **Lift**: 1.19 — confirms a weak but positive link.\n",
        "\n",
        "### Insights\n",
        "- **Mineral water** appears frequently as a co-purchased item, acting as a common companion across multiple products.\n",
        "- **Spaghetti and chocolate** show strong bidirectional associations with mineral water, suggesting bundled or habitual purchases.\n",
        "- These rules can inform **product placement**, **cross-promotions**, or **bundle recommendations** in an online retail setting."
      ],
      "metadata": {
        "id": "HEphqF-B8ndb"
      }
    },
    {
      "cell_type": "markdown",
      "source": [
        "### 📌 Interview Questions — Association Rule Mining\n",
        "\n",
        "#### 1. What is Lift and why is it important in Association Rules?\n",
        "\n",
        "- **Lift** measures how much more likely two items are to be purchased together compared to if they were independent.\n",
        "- It is calculated as:  \n",
        "  \\[\n",
        "  \\text{Lift}(A → B) = \\frac{\\text{Confidence}(A → B)}{\\text{Support}(B)}\n",
        "  \\]\n",
        "- **Interpretation**:\n",
        "  - **Lift > 1**: Positive association — items co-occur more than expected.\n",
        "  - **Lift = 1**: No association — items are independent.\n",
        "  - **Lift < 1**: Negative association — items co-occur less than expected.\n",
        "- **Importance**: Lift helps filter out rules that are statistically significant and not just frequent. It highlights **true dependencies** between items.\n",
        "---\n",
        "#### 2. What is Support and Confidence? How do you calculate them?\n",
        "\n",
        "- **Support**: Proportion of transactions that contain the itemset.\n",
        "  - Formula:  \n",
        "    \\[\n",
        "    \\text{Support}(A → B) = \\frac{\\text{Transactions containing both A and B}}{\\text{Total transactions}}\n",
        "    \\]\n",
        "- **Confidence**: Likelihood that item B is purchased when item A is purchased.\n",
        "  - Formula:  \n",
        "    \\[\n",
        "    \\text{Confidence}(A → B) = \\frac{\\text{Support}(A ∪ B)}{\\text{Support}(A)}\n",
        "    \\]\n",
        "- **Use**:\n",
        "  - Support filters out rare combinations.\n",
        "  - Confidence evaluates the strength of implication.\n",
        "---\n",
        "#### 3. What are some limitations or challenges of Association Rule Mining?\n",
        "\n",
        "- **Sparse data**: Many item combinations may occur infrequently, leading to low support.\n",
        "- **Rule explosion**: Large datasets can generate thousands of rules, many of which are trivial or redundant.\n",
        "- **No causality**: Association rules show correlation, not causation.\n",
        "- **Parameter tuning**: Choosing thresholds for support, confidence, and lift requires domain knowledge.\n",
        "- **Scalability**: Algorithms like Apriori can be computationally expensive for large datasets.\n",
        "- **Interpretability**: Not all high-confidence rules are meaningful or actionable.\n"
      ],
      "metadata": {
        "id": "s0UKlqDk8u4_"
      }
    }
  ]
}