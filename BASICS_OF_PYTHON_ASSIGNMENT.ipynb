{
  "nbformat": 4,
  "nbformat_minor": 0,
  "metadata": {
    "colab": {
      "provenance": []
    },
    "kernelspec": {
      "name": "python3",
      "display_name": "Python 3"
    },
    "language_info": {
      "name": "python"
    }
  },
  "cells": [
    {
      "cell_type": "markdown",
      "source": [
        "# **PRIME NUMBER**"
      ],
      "metadata": {
        "id": "5Fl0Lz5ceTqW"
      }
    },
    {
      "cell_type": "code",
      "execution_count": null,
      "metadata": {
        "colab": {
          "base_uri": "https://localhost:8080/"
        },
        "id": "dC6Dh-YHdn0G",
        "outputId": "9bd7d92d-39a5-4851-8fe7-d165b54e74cb"
      },
      "outputs": [
        {
          "output_type": "stream",
          "name": "stdout",
          "text": [
            "13537 is a prime number.\n"
          ]
        }
      ],
      "source": [
        "def is_prime(n):\n",
        "    if n <= 1:\n",
        "        return False  # Prime numbers are greater than 1\n",
        "    if n == 2:\n",
        "        return True   # 2 is the only even prime number\n",
        "    if n % 2 == 0:\n",
        "        return False\n",
        "    # Check for factors from 3 up to the square root of n\n",
        "    for i in range(3, int(n**0.5) + 1, 2):  # Only check odd numbers\n",
        "        if n % i == 0:\n",
        "            return False  # Found a factor, so not prime\n",
        "    return True  # No factors found, so it's prime\n",
        "\n",
        "# Checking for 13537\n",
        "number = 13537\n",
        "if is_prime(number):\n",
        "    print(f\"{number} is a prime number.\")\n",
        "else:\n",
        "    print(f\"{number} is not a prime number.\")"
      ]
    },
    {
      "cell_type": "markdown",
      "source": [
        "# **CHECKING IF THE PRODUCT OF RANDOM NUMBERS IS CORRECT**"
      ],
      "metadata": {
        "id": "Pas9eMPEfhnb"
      }
    },
    {
      "cell_type": "code",
      "source": [
        "import random\n",
        "\n",
        "# GENERATING ANY RANDOM NUMBERS BETWEEN 10 TO 20\n",
        "num1 = random.randint(10, 20)\n",
        "num2 = random.randint(10, 20)\n",
        "\n",
        "# ASK THE USER TO ENTER THE VALUE\n",
        "print(f\"What is the product of {num1} and {num2}?\")\n",
        "user_answer = int(input(\"Your answer: \"))\n",
        "\n",
        "# CALCULATING THE CORRECT PRODUCT\n",
        "correct_answer = num1 * num2\n",
        "\n",
        "# CHECKING IF THE ANSWER IS RIGHT\n",
        "if user_answer == correct_answer:\n",
        "    print(\"Correct! Well done.\")\n",
        "else:\n",
        "    print(f\"Wrong answer! The correct answer is {correct_answer}.\")"
      ],
      "metadata": {
        "colab": {
          "base_uri": "https://localhost:8080/"
        },
        "id": "9YAWBLNLeaav",
        "outputId": "0aea74f1-34d5-4126-f4f1-a7b8bbb6e331"
      },
      "execution_count": null,
      "outputs": [
        {
          "output_type": "stream",
          "name": "stdout",
          "text": [
            "What is the product of 15 and 18?\n",
            "Your answer: 667\n",
            "Wrong answer! The correct answer is 270.\n"
          ]
        }
      ]
    },
    {
      "cell_type": "markdown",
      "source": [
        "# **SQUARES OF NUMBERS**"
      ],
      "metadata": {
        "id": "RAWpesCGhWNa"
      }
    },
    {
      "cell_type": "code",
      "source": [
        "# FOR ODD NUMBERS\n",
        "\n",
        "for number in range(100, 201):\n",
        "    if number % 2 != 0:  # Check if the number is odd\n",
        "        square = number ** 2\n",
        "        print(f\"The square of {number} is {square}\")\n"
      ],
      "metadata": {
        "colab": {
          "base_uri": "https://localhost:8080/"
        },
        "id": "K23HZCJrf3uC",
        "outputId": "45ceb069-9275-4f16-8f35-27c102f541a6"
      },
      "execution_count": null,
      "outputs": [
        {
          "output_type": "stream",
          "name": "stdout",
          "text": [
            "The square of 101 is 10201\n",
            "The square of 103 is 10609\n",
            "The square of 105 is 11025\n",
            "The square of 107 is 11449\n",
            "The square of 109 is 11881\n",
            "The square of 111 is 12321\n",
            "The square of 113 is 12769\n",
            "The square of 115 is 13225\n",
            "The square of 117 is 13689\n",
            "The square of 119 is 14161\n",
            "The square of 121 is 14641\n",
            "The square of 123 is 15129\n",
            "The square of 125 is 15625\n",
            "The square of 127 is 16129\n",
            "The square of 129 is 16641\n",
            "The square of 131 is 17161\n",
            "The square of 133 is 17689\n",
            "The square of 135 is 18225\n",
            "The square of 137 is 18769\n",
            "The square of 139 is 19321\n",
            "The square of 141 is 19881\n",
            "The square of 143 is 20449\n",
            "The square of 145 is 21025\n",
            "The square of 147 is 21609\n",
            "The square of 149 is 22201\n",
            "The square of 151 is 22801\n",
            "The square of 153 is 23409\n",
            "The square of 155 is 24025\n",
            "The square of 157 is 24649\n",
            "The square of 159 is 25281\n",
            "The square of 161 is 25921\n",
            "The square of 163 is 26569\n",
            "The square of 165 is 27225\n",
            "The square of 167 is 27889\n",
            "The square of 169 is 28561\n",
            "The square of 171 is 29241\n",
            "The square of 173 is 29929\n",
            "The square of 175 is 30625\n",
            "The square of 177 is 31329\n",
            "The square of 179 is 32041\n",
            "The square of 181 is 32761\n",
            "The square of 183 is 33489\n",
            "The square of 185 is 34225\n",
            "The square of 187 is 34969\n",
            "The square of 189 is 35721\n",
            "The square of 191 is 36481\n",
            "The square of 193 is 37249\n",
            "The square of 195 is 38025\n",
            "The square of 197 is 38809\n",
            "The square of 199 is 39601\n"
          ]
        }
      ]
    },
    {
      "cell_type": "code",
      "source": [
        "# FOR EVEN NUMBERS\n",
        "\n",
        "for number in range(100, 201):\n",
        "    if number % 2 == 0:  # Check if the number is even\n",
        "        square = number ** 2\n",
        "        print(f\"The square of {number} is {square}\")"
      ],
      "metadata": {
        "colab": {
          "base_uri": "https://localhost:8080/"
        },
        "id": "J3yA1IQmiabS",
        "outputId": "e0fcd8da-fe1a-4579-af36-39e1f0353f02"
      },
      "execution_count": null,
      "outputs": [
        {
          "output_type": "stream",
          "name": "stdout",
          "text": [
            "The square of 100 is 10000\n",
            "The square of 102 is 10404\n",
            "The square of 104 is 10816\n",
            "The square of 106 is 11236\n",
            "The square of 108 is 11664\n",
            "The square of 110 is 12100\n",
            "The square of 112 is 12544\n",
            "The square of 114 is 12996\n",
            "The square of 116 is 13456\n",
            "The square of 118 is 13924\n",
            "The square of 120 is 14400\n",
            "The square of 122 is 14884\n",
            "The square of 124 is 15376\n",
            "The square of 126 is 15876\n",
            "The square of 128 is 16384\n",
            "The square of 130 is 16900\n",
            "The square of 132 is 17424\n",
            "The square of 134 is 17956\n",
            "The square of 136 is 18496\n",
            "The square of 138 is 19044\n",
            "The square of 140 is 19600\n",
            "The square of 142 is 20164\n",
            "The square of 144 is 20736\n",
            "The square of 146 is 21316\n",
            "The square of 148 is 21904\n",
            "The square of 150 is 22500\n",
            "The square of 152 is 23104\n",
            "The square of 154 is 23716\n",
            "The square of 156 is 24336\n",
            "The square of 158 is 24964\n",
            "The square of 160 is 25600\n",
            "The square of 162 is 26244\n",
            "The square of 164 is 26896\n",
            "The square of 166 is 27556\n",
            "The square of 168 is 28224\n",
            "The square of 170 is 28900\n",
            "The square of 172 is 29584\n",
            "The square of 174 is 30276\n",
            "The square of 176 is 30976\n",
            "The square of 178 is 31684\n",
            "The square of 180 is 32400\n",
            "The square of 182 is 33124\n",
            "The square of 184 is 33856\n",
            "The square of 186 is 34596\n",
            "The square of 188 is 35344\n",
            "The square of 190 is 36100\n",
            "The square of 192 is 36864\n",
            "The square of 194 is 37636\n",
            "The square of 196 is 38416\n",
            "The square of 198 is 39204\n",
            "The square of 200 is 40000\n"
          ]
        }
      ]
    },
    {
      "cell_type": "markdown",
      "source": [
        "# **WORD COUNT**"
      ],
      "metadata": {
        "id": "eW-xWSgpikd_"
      }
    },
    {
      "cell_type": "code",
      "source": [
        "input_text = \"Can I get a bottle of water. I'm very thirsty\"\n",
        "words = input_text.split()\n",
        "word_count = {}\n",
        "for word in words:\n",
        "    if word in word_count:\n",
        "        word_count[word] += 1\n",
        "    else:\n",
        "        word_count[word] = 1\n",
        "for word, count in word_count.items():\n",
        "    print(f\"'{word}': {count}\")"
      ],
      "metadata": {
        "colab": {
          "base_uri": "https://localhost:8080/"
        },
        "id": "UlmBYdioiaY9",
        "outputId": "d868aaed-6939-4626-b680-f180f2937866"
      },
      "execution_count": null,
      "outputs": [
        {
          "output_type": "stream",
          "name": "stdout",
          "text": [
            "'Can': 1\n",
            "'I': 1\n",
            "'get': 1\n",
            "'a': 1\n",
            "'bottle': 1\n",
            "'of': 1\n",
            "'water.': 1\n",
            "'I'm': 1\n",
            "'very': 1\n",
            "'thirsty': 1\n"
          ]
        }
      ]
    },
    {
      "cell_type": "markdown",
      "source": [
        "# **CHECKING FOR PALINDROME**"
      ],
      "metadata": {
        "id": "QBwNA4YtkM8F"
      }
    },
    {
      "cell_type": "code",
      "source": [
        "import string\n",
        "def is_palindrome(text):\n",
        "    text = text.lower()\n",
        "    cleaned_text = ''.join(char for char in text if char.isalnum())\n",
        "    return cleaned_text == cleaned_text[::-1]\n",
        "\n",
        "print(is_palindrome(\"Racecar\"))\n",
        "print(is_palindrome(\"Samhitaa\"))\n",
        "print(is_palindrome(\"Madam, in Eden, I’m Adam.\"))\n"
      ],
      "metadata": {
        "colab": {
          "base_uri": "https://localhost:8080/"
        },
        "id": "3qwEZyBDiaWF",
        "outputId": "19df26d0-772c-4d09-ae32-48bc10bbe35a"
      },
      "execution_count": null,
      "outputs": [
        {
          "output_type": "stream",
          "name": "stdout",
          "text": [
            "True\n",
            "False\n",
            "True\n"
          ]
        }
      ]
    },
    {
      "cell_type": "code",
      "source": [],
      "metadata": {
        "id": "o9C4ikHciaTX"
      },
      "execution_count": null,
      "outputs": []
    },
    {
      "cell_type": "code",
      "source": [],
      "metadata": {
        "id": "ATSPxpVPiaQP"
      },
      "execution_count": null,
      "outputs": []
    },
    {
      "cell_type": "code",
      "source": [],
      "metadata": {
        "id": "nCDpRmMaiaNL"
      },
      "execution_count": null,
      "outputs": []
    }
  ]
}