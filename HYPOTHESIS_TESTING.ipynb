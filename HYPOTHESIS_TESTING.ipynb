{
  "nbformat": 4,
  "nbformat_minor": 0,
  "metadata": {
    "colab": {
      "provenance": [],
      "authorship_tag": "ABX9TyNxzJjqjfBrveh9/WYX1p3U",
      "include_colab_link": true
    },
    "kernelspec": {
      "name": "python3",
      "display_name": "Python 3"
    },
    "language_info": {
      "name": "python"
    }
  },
  "cells": [
    {
      "cell_type": "markdown",
      "metadata": {
        "id": "view-in-github",
        "colab_type": "text"
      },
      "source": [
        "<a href=\"https://colab.research.google.com/github/Sam-krish2411/DATA-SCIENCE-ASSIGNMENT/blob/main/HYPOTHESIS_TESTING.ipynb\" target=\"_parent\"><img src=\"https://colab.research.google.com/assets/colab-badge.svg\" alt=\"Open In Colab\"/></a>"
      ]
    },
    {
      "cell_type": "markdown",
      "source": [
        "#**Hypothesis Testing – Weekly Operating Costs of Bombay Hospitality Ltd**\n",
        "Bombay Hospitality Ltd. operates a franchise model for producing exotic Norwegian dinners throughout New England.  \n",
        "The weekly operating cost model is given by:\n",
        " W = $1000+$5X\n",
        "\n",
        " where X= Number of Units produced in a week\n",
        "\n",
        " Recently, restaurant owners have claimed that their observed costs are **higher** than what the model predicts.\n",
        "#**Objective**\n",
        "To test, using hypothesis testing, whether the weekly operating costs are significantly higher than the model's prediction.\n",
        "\n",
        "Data Given\n",
        "- **Model**: \\( W = 1000 + 5X \\)(1000+5*600 = 4000)\n",
        "- **X** (units produced per week): Mean = 600 units, Std. Dev. = 25 units\n",
        "- **Sample**: 25 restaurants\n",
        "- **Sample mean cost (\\(\\bar{x}\\))** = 3,050\n",
        "- **Population cost std. dev. (\\(\\sigma\\))** = 5*25 = 125\n",
        "- **Significance level (\\(\\alpha\\))** = 0.05\n"
      ],
      "metadata": {
        "id": "-6TGpSXT5dqO"
      }
    },
    {
      "cell_type": "markdown",
      "source": [
        "**STEP-1** : **STATING THE HYPOTHESIS FOR THE MODEL**\n",
        "\n",
        "**Null Hypothesis(H0)** : The true mean weekly cost = Model predicted cost.\n",
        "On average, the weekly cost has not increased from the model's predicted value of ₹4,000\n",
        "\n",
        "**mu = 4000**\n",
        "\n",
        "**Alternate Hypothesis(H1)** : The true mean weekly cost is greater than the model predicted cost. On average, the weekly cost has increased and is now higher than the model's predicted value of ₹4,000.\n",
        "\n",
        "**mu > 4000**\n",
        "\n",
        " **NATURE OF THE TEST**\n",
        "\n",
        "This is a right-tailed test because the claim is about costs being higher than the model's prediction.\n",
        "\n",
        "Significance level : alpha = 0.05\n",
        "\n"
      ],
      "metadata": {
        "id": "2LLVhxZv7dSq"
      }
    },
    {
      "cell_type": "code",
      "source": [
        "#STEP-1 - CALCULATING THE MODEL PREDICTED MEAN COST\n",
        "X_mean = 600\n",
        "mu_model = 1000 + 5 * X_mean\n",
        "mu_model"
      ],
      "metadata": {
        "colab": {
          "base_uri": "https://localhost:8080/"
        },
        "id": "Zx7GPlkk7bZA",
        "outputId": "0240aff0-3c26-4dbc-9ea2-33d4d7ea50c3"
      },
      "execution_count": 1,
      "outputs": [
        {
          "output_type": "execute_result",
          "data": {
            "text/plain": [
              "4000"
            ]
          },
          "metadata": {},
          "execution_count": 1
        }
      ]
    },
    {
      "cell_type": "code",
      "source": [
        "import math #for calculating the square root in the test statistics formula#\n",
        "from scipy.stats import norm\n",
        "\n",
        "# Given data\n",
        "x_bar = 3050    # sample mean\n",
        "sigma_units = 25\n",
        "sigma_cost = 5 * sigma_units\n",
        "n = 25\n",
        "alpha = 0.05\n",
        "\n",
        "# Test statistic\n",
        "z = (x_bar - mu_model) / (sigma_cost / math.sqrt(n))\n",
        "z"
      ],
      "metadata": {
        "colab": {
          "base_uri": "https://localhost:8080/"
        },
        "id": "hXH0awbn9i8V",
        "outputId": "cdca72ea-16db-4ae1-d61a-3f69c4fdc5e7"
      },
      "execution_count": 2,
      "outputs": [
        {
          "output_type": "execute_result",
          "data": {
            "text/plain": [
              "-38.0"
            ]
          },
          "metadata": {},
          "execution_count": 2
        }
      ]
    },
    {
      "cell_type": "code",
      "source": [
        "# Right-tailed test critical value\n",
        "z_critical = norm.ppf(1 - alpha)\n",
        "z_critical"
      ],
      "metadata": {
        "colab": {
          "base_uri": "https://localhost:8080/"
        },
        "id": "WgF1njlp-YLC",
        "outputId": "46962068-263c-4072-dcbb-a1e4f674136d"
      },
      "execution_count": 3,
      "outputs": [
        {
          "output_type": "execute_result",
          "data": {
            "text/plain": [
              "np.float64(1.6448536269514722)"
            ]
          },
          "metadata": {},
          "execution_count": 3
        }
      ]
    },
    {
      "cell_type": "code",
      "source": [
        "if z > z_critical:\n",
        "    decision = \"Reject H0\"\n",
        "else:\n",
        "    decision = \"Accept H0\"\n",
        "decision"
      ],
      "metadata": {
        "colab": {
          "base_uri": "https://localhost:8080/",
          "height": 35
        },
        "id": "8MuLKxMO-YIJ",
        "outputId": "397e22fe-e953-41b9-b1ad-2ebbcbcb1038"
      },
      "execution_count": 5,
      "outputs": [
        {
          "output_type": "execute_result",
          "data": {
            "text/plain": [
              "'Accept H0'"
            ],
            "application/vnd.google.colaboratory.intrinsic+json": {
              "type": "string"
            }
          },
          "metadata": {},
          "execution_count": 5
        }
      ]
    },
    {
      "cell_type": "markdown",
      "source": [
        "#**CONCLUSION**\n",
        "The calculated test statistic is much less than the critical value for a right-tailed test.  \n",
        "Therefore, we **fail to reject** the null hypothesis.\n",
        "\n",
        " **INTERPRETATION**\n",
        "\n",
        "Based on the given sample, there is **no evidence** to suggest that the weekly operating costs are higher than predicted.  \n",
        "In fact, the sample mean (₹3,050) is significantly lower than the model predicted cost (₹4,000), suggesting the opposite trend.\n",
        "The claim in the problem states that costs are higher, but the sample mean provided (₹3,050) is lower than the model's prediction.  \n",
        "If instead the sample mean was ₹4,050, the test result could potentially support the claim of higher costs."
      ],
      "metadata": {
        "id": "j-R-tyDH_jYT"
      }
    }
  ]
}